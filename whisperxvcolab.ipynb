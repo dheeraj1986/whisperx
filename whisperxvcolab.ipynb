{
  "cells": [
    {
      "cell_type": "code",
      "execution_count": null,
      "metadata": {
        "id": "OefkIJZM5UFN"
      },
      "outputs": [],
      "source": [
        "# WhisperX Colab Notebook (Stable, No Diarization)\n",
        "\n",
        "# ✅ Step 1: Install dependencies (no diarization, stable torch)\n",
        "!pip install git+https://github.com/m-bain/whisperx.git\n",
        "\n",
        "# ✅ Step 2: Upload an audio file\n",
        "from google.colab import files\n",
        "uploaded = files.upload()\n",
        "audio_file = list(uploaded.keys())[0]\n",
        "\n",
        "# ✅ Step 3: Select language\n",
        "import ipywidgets as widgets\n",
        "from IPython.display import display\n",
        "\n",
        "language_dropdown = widgets.Dropdown(\n",
        "    options=[('Hindi', 'hi'), ('Tamil', 'ta'), ('Kannada', 'kn'), ('Marathi', 'mr'), ('English', 'en')],\n",
        "    value='ta',\n",
        "    description='Language:',\n",
        "    disabled=False,\n",
        ")\n",
        "display(language_dropdown)\n",
        "\n",
        "# ✅ Step 4: Run transcription (no diarization)\n",
        "import whisperx\n",
        "import torch\n",
        "import json\n",
        "\n",
        "try:\n",
        "    if torch.cuda.is_available():\n",
        "        model = whisperx.load_model(\"medium\", device=\"cuda\", compute_type=\"float16\")\n",
        "    else:\n",
        "        model = whisperx.load_model(\"small\", device=\"cpu\", compute_type=\"float32\")\n",
        "except Exception as e:\n",
        "    print(\"⚠️ CUDA unavailable or incompatible. Falling back to CPU.\")\n",
        "    print(\"Error:\", e)\n",
        "    model = whisperx.load_model(\"small\", device=\"cpu\", compute_type=\"float32\")\n",
        "\n",
        "transcription = model.transcribe(audio_file, language=language_dropdown.value)\n",
        "\n",
        "# ✅ Step 5: Export structured transcript as JSON\n",
        "json_output = {\n",
        "    \"language\": transcription.get(\"language\", language_dropdown.label),\n",
        "    \"segments\": transcription[\"segments\"]\n",
        "}\n",
        "\n",
        "with open(\"transcript.json\", \"w\") as f:\n",
        "    json.dump(json_output, f, indent=2, ensure_ascii=False)\n",
        "\n",
        "files.download(\"transcript.json\")\n"
      ]
    }
  ],
  "metadata": {
    "colab": {
      "provenance": []
    },
    "kernelspec": {
      "display_name": "Python 3",
      "name": "python3"
    },
    "language_info": {
      "name": "python"
    }
  },
  "nbformat": 4,
  "nbformat_minor": 0
}
