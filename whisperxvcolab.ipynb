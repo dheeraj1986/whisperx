{
  "cells": [
    {
      "cell_type": "code",
      "execution_count": null,
      "metadata": {
        "id": "OefkIJZM5UFN"
      },
      "outputs": [],
      "source": [
        "# WhisperX Colab Notebook\n",
        "\n",
        "# ✅ Step 1: Install dependencies\n",
        "!pip install git+https://github.com/m-bain/whisperx.git\n",
        "\n",
        "# ✅ Step 2: Upload an audio file\n",
        "from google.colab import files\n",
        "uploaded = files.upload()\n",
        "audio_file = list(uploaded.keys())[0]\n",
        "\n",
        "# ✅ Step 3: Select language\n",
        "import ipywidgets as widgets\n",
        "from IPython.display import display\n",
        "\n",
        "language_dropdown = widgets.Dropdown(\n",
        "    options=['Hindi', 'Tamil', 'Kannada', 'Marathi', 'English'],\n",
        "    value='Hindi',\n",
        "    description='Language:',\n",
        "    disabled=False,\n",
        ")\n",
        "display(language_dropdown)\n",
        "\n",
        "# ✅ Step 4: Run transcription with CPU fallback\n",
        "import whisperx\n",
        "import torch\n",
        "\n",
        "try:\n",
        "    if torch.cuda.is_available():\n",
        "        model = whisperx.load_model(\"medium\", device=\"cuda\", compute_type=\"float16\")\n",
        "    else:\n",
        "        model = whisperx.load_model(\"small\", device=\"cpu\", compute_type=\"float32\")\n",
        "except:\n",
        "    print(\"⚠️ CUDA unavailable or incompatible. Falling back to CPU.\")\n",
        "    model = whisperx.load_model(\"small\", device=\"cpu\", compute_type=\"float32\")\n",
        "\n",
        "transcription = model.transcribe(audio_file, language=language_dropdown.value)\n",
        "print(transcription[\"segments\"][0])\n",
        "\n",
        "# ✅ Step 5: Export transcript\n",
        "with open(\"transcript.txt\", \"w\") as f:\n",
        "    for segment in transcription[\"segments\"]:\n",
        "        f.write(f\"[{segment['start']:.2f} - {segment['end']:.2f}] {segment['text']}\\n\")\n",
        "\n",
        "files.download(\"transcript.txt\")\n"
      ]
    }
  ],
  "metadata": {
    "colab": {
      "provenance": []
    },
    "kernelspec": {
      "display_name": "Python 3",
      "name": "python3"
    },
    "language_info": {
      "name": "python"
    }
  },
  "nbformat": 4,
  "nbformat_minor": 0
}
